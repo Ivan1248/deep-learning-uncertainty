{
 "cells": [
  {
   "cell_type": "code",
   "execution_count": 1,
   "metadata": {
    "collapsed": true
   },
   "outputs": [],
   "source": [
    "import sys\n",
    "\n",
    "import numpy as np\n",
    "import matplotlib.pyplot as plt\n",
    "\n",
    "#import cleverhans\n",
    "#from cleverhans.attacks_tf import fgsm\n",
    "#from cleverhans.utils_tf import batch_eval\n",
    "\n",
    "from _context import dl_uncertainty\n",
    "from dl_uncertainty.models import ResNet, BlockStructure\n",
    "from dl_uncertainty.data_utils import Cifar10Loader, Dataset\n",
    "from dl_uncertainty.visualization import compose, Viewer\n",
    "import dl_uncertainty.dirs\n",
    "\n",
    "%matplotlib inline"
   ]
  },
  {
   "cell_type": "code",
   "execution_count": 2,
   "metadata": {
    "collapsed": true
   },
   "outputs": [],
   "source": [
    "ds_test = Cifar10Loader.load_test()\n",
    "ds_test = ds_test.split(0, 4096)[0]\n",
    "images_outof = list(map(np.flipud, ds_test.images))\n",
    "ds_test_outof = Dataset(images_outof, ds_test.labels, ds_test.class_count)"
   ]
  },
  {
   "cell_type": "code",
   "execution_count": 3,
   "metadata": {},
   "outputs": [
    {
     "name": "stdout",
     "output_type": "stream",
     "text": [
      "group count: 3, blocks per group: 4\n",
      "(32, 32, 3) (32, 32, 160) resnet/conv/convolution:0\n",
      "(32, 32, 160) (32, 32, 160) resnet/group0/block0/block/conv0/convolution:0\n",
      "(32, 32, 160) (32, 32, 160) resnet/group0/block0/block/conv1/convolution:0\n",
      "(32, 32, 160) (32, 32, 160) resnet/group0/block1/block/conv0/convolution:0\n",
      "(32, 32, 160) (32, 32, 160) resnet/group0/block1/block/conv1/convolution:0\n",
      "(32, 32, 160) (32, 32, 160) resnet/group0/block2/block/conv0/convolution:0\n",
      "(32, 32, 160) (32, 32, 160) resnet/group0/block2/block/conv1/convolution:0\n",
      "(32, 32, 160) (32, 32, 160) resnet/group0/block3/block/conv0/convolution:0\n",
      "(32, 32, 160) (32, 32, 160) resnet/group0/block3/block/conv1/convolution:0\n",
      "(32, 32, 160) (16, 16, 320) resnet/group1/block0/block/conv0/convolution:0\n",
      "(16, 16, 320) (16, 16, 320) resnet/group1/block0/block/conv1/convolution:0\n",
      "(16, 16, 320) (16, 16, 320) resnet/group1/block1/block/conv0/convolution:0\n",
      "(16, 16, 320) (16, 16, 320) resnet/group1/block1/block/conv1/convolution:0\n",
      "(16, 16, 320) (16, 16, 320) resnet/group1/block2/block/conv0/convolution:0\n",
      "(16, 16, 320) (16, 16, 320) resnet/group1/block2/block/conv1/convolution:0\n",
      "(16, 16, 320) (16, 16, 320) resnet/group1/block3/block/conv0/convolution:0\n",
      "(16, 16, 320) (16, 16, 320) resnet/group1/block3/block/conv1/convolution:0\n",
      "(16, 16, 320) (8, 8, 640) resnet/group2/block0/block/conv0/convolution:0\n",
      "(8, 8, 640) (8, 8, 640) resnet/group2/block0/block/conv1/convolution:0\n",
      "(8, 8, 640) (8, 8, 640) resnet/group2/block1/block/conv0/convolution:0\n",
      "(8, 8, 640) (8, 8, 640) resnet/group2/block1/block/conv1/convolution:0\n",
      "(8, 8, 640) (8, 8, 640) resnet/group2/block2/block/conv0/convolution:0\n",
      "(8, 8, 640) (8, 8, 640) resnet/group2/block2/block/conv1/convolution:0\n",
      "(8, 8, 640) (8, 8, 640) resnet/group2/block3/block/conv0/convolution:0\n",
      "(8, 8, 640) (8, 8, 640) resnet/group2/block3/block/conv1/convolution:0\n"
     ]
    },
    {
     "ename": "TypeError",
     "evalue": "reduce_mean() got an unexpected keyword argument 'keepdims'",
     "output_type": "error",
     "traceback": [
      "\u001b[1;31m---------------------------------------------------------------------------\u001b[0m",
      "\u001b[1;31mTypeError\u001b[0m                                 Traceback (most recent call last)",
      "\u001b[1;32m<ipython-input-3-56c06134b3bc>\u001b[0m in \u001b[0;36m<module>\u001b[1;34m()\u001b[0m\n\u001b[0;32m     21\u001b[0m     \u001b[0mbase_width\u001b[0m\u001b[1;33m=\u001b[0m\u001b[0mk\u001b[0m \u001b[1;33m*\u001b[0m \u001b[1;36m16\u001b[0m\u001b[1;33m,\u001b[0m\u001b[1;33m\u001b[0m\u001b[0m\n\u001b[0;32m     22\u001b[0m     \u001b[0mweight_decay\u001b[0m\u001b[1;33m=\u001b[0m\u001b[1;36m5e-4\u001b[0m\u001b[1;33m,\u001b[0m\u001b[1;33m\u001b[0m\u001b[0m\n\u001b[1;32m---> 23\u001b[1;33m     training_log_period=39)\n\u001b[0m\u001b[0;32m     24\u001b[0m assert zagoruyko_depth == model.zagoruyko_depth, \"invalid depth (zagoruyko_depth={}!={}=model.zagoruyko_depth)\".format(\n\u001b[0;32m     25\u001b[0m     zagoruyko_depth, model.zagoruyko_depth)\n",
      "\u001b[1;32mD:\\Google Drive\\Projects\\DCNN-uncertainty\\dl_uncertainty\\models\\resnet.py\u001b[0m in \u001b[0;36m__init__\u001b[1;34m(self, input_shape, class_count, group_lengths, block_structure, base_width, weight_decay, batch_size, learning_rate_policy, training_log_period, name)\u001b[0m\n\u001b[0;32m     35\u001b[0m             \u001b[0mlearning_rate_policy\u001b[0m\u001b[1;33m=\u001b[0m\u001b[0mlearning_rate_policy\u001b[0m\u001b[1;33m,\u001b[0m\u001b[1;33m\u001b[0m\u001b[0m\n\u001b[0;32m     36\u001b[0m             \u001b[0mtraining_log_period\u001b[0m\u001b[1;33m=\u001b[0m\u001b[0mtraining_log_period\u001b[0m\u001b[1;33m,\u001b[0m\u001b[1;33m\u001b[0m\u001b[0m\n\u001b[1;32m---> 37\u001b[1;33m             name=name)\n\u001b[0m\u001b[0;32m     38\u001b[0m \u001b[1;33m\u001b[0m\u001b[0m\n\u001b[0;32m     39\u001b[0m     \u001b[1;32mdef\u001b[0m \u001b[0m_build_graph\u001b[0m\u001b[1;33m(\u001b[0m\u001b[0mself\u001b[0m\u001b[1;33m,\u001b[0m \u001b[0mlearning_rate\u001b[0m\u001b[1;33m,\u001b[0m \u001b[0mepoch\u001b[0m\u001b[1;33m,\u001b[0m \u001b[0mis_training\u001b[0m\u001b[1;33m)\u001b[0m\u001b[1;33m:\u001b[0m\u001b[1;33m\u001b[0m\u001b[0m\n",
      "\u001b[1;32mD:\\Google Drive\\Projects\\DCNN-uncertainty\\dl_uncertainty\\models\\abstract_model.py\u001b[0m in \u001b[0;36m__init__\u001b[1;34m(self, batch_size, learning_rate_policy, training_log_period, name)\u001b[0m\n\u001b[0;32m     57\u001b[0m                     \u001b[0mboundaries\u001b[0m\u001b[1;33m=\u001b[0m\u001b[0mlr\u001b[0m\u001b[1;33m[\u001b[0m\u001b[1;34m'boundaries'\u001b[0m\u001b[1;33m]\u001b[0m\u001b[1;33m,\u001b[0m\u001b[1;33m\u001b[0m\u001b[0m\n\u001b[0;32m     58\u001b[0m                     values=lr['values'])\n\u001b[1;32m---> 59\u001b[1;33m             \u001b[0mself\u001b[0m\u001b[1;33m.\u001b[0m\u001b[0mnodes\u001b[0m \u001b[1;33m=\u001b[0m \u001b[0mself\u001b[0m\u001b[1;33m.\u001b[0m\u001b[0m_build_graph\u001b[0m\u001b[1;33m(\u001b[0m\u001b[0mlr\u001b[0m\u001b[1;33m,\u001b[0m \u001b[0mself\u001b[0m\u001b[1;33m.\u001b[0m\u001b[0m_epoch\u001b[0m\u001b[1;33m,\u001b[0m \u001b[0mself\u001b[0m\u001b[1;33m.\u001b[0m\u001b[0m_is_training\u001b[0m\u001b[1;33m)\u001b[0m\u001b[1;33m\u001b[0m\u001b[0m\n\u001b[0m\u001b[0;32m     60\u001b[0m \u001b[1;33m\u001b[0m\u001b[0m\n\u001b[0;32m     61\u001b[0m             \u001b[0mself\u001b[0m\u001b[1;33m.\u001b[0m\u001b[0m_sess\u001b[0m\u001b[1;33m.\u001b[0m\u001b[0mrun\u001b[0m\u001b[1;33m(\u001b[0m\u001b[0mtf\u001b[0m\u001b[1;33m.\u001b[0m\u001b[0mglobal_variables_initializer\u001b[0m\u001b[1;33m(\u001b[0m\u001b[1;33m)\u001b[0m\u001b[1;33m)\u001b[0m\u001b[1;33m\u001b[0m\u001b[0m\n",
      "\u001b[1;32mD:\\Google Drive\\Projects\\DCNN-uncertainty\\dl_uncertainty\\models\\resnet.py\u001b[0m in \u001b[0;36m_build_graph\u001b[1;34m(self, learning_rate, epoch, is_training)\u001b[0m\n\u001b[0;32m     55\u001b[0m \u001b[1;33m\u001b[0m\u001b[0m\n\u001b[0;32m     56\u001b[0m         \u001b[1;31m# Global pooling and softmax classification\u001b[0m\u001b[1;33m\u001b[0m\u001b[1;33m\u001b[0m\u001b[0m\n\u001b[1;32m---> 57\u001b[1;33m         \u001b[0mh\u001b[0m \u001b[1;33m=\u001b[0m \u001b[0mtf\u001b[0m\u001b[1;33m.\u001b[0m\u001b[0mreduce_mean\u001b[0m\u001b[1;33m(\u001b[0m\u001b[0mh\u001b[0m\u001b[1;33m,\u001b[0m \u001b[0maxis\u001b[0m\u001b[1;33m=\u001b[0m\u001b[1;33m[\u001b[0m\u001b[1;36m1\u001b[0m\u001b[1;33m,\u001b[0m \u001b[1;36m2\u001b[0m\u001b[1;33m]\u001b[0m\u001b[1;33m,\u001b[0m \u001b[0mkeepdims\u001b[0m\u001b[1;33m=\u001b[0m\u001b[1;32mTrue\u001b[0m\u001b[1;33m)\u001b[0m\u001b[1;33m\u001b[0m\u001b[0m\n\u001b[0m\u001b[0;32m     58\u001b[0m         \u001b[0mlogits\u001b[0m \u001b[1;33m=\u001b[0m \u001b[0mconv\u001b[0m\u001b[1;33m(\u001b[0m\u001b[0mh\u001b[0m\u001b[1;33m,\u001b[0m \u001b[1;36m1\u001b[0m\u001b[1;33m,\u001b[0m \u001b[0mself\u001b[0m\u001b[1;33m.\u001b[0m\u001b[0mclass_count\u001b[0m\u001b[1;33m)\u001b[0m\u001b[1;33m\u001b[0m\u001b[0m\n\u001b[0;32m     59\u001b[0m         \u001b[0mlogits\u001b[0m \u001b[1;33m=\u001b[0m \u001b[0mtf\u001b[0m\u001b[1;33m.\u001b[0m\u001b[0mreshape\u001b[0m\u001b[1;33m(\u001b[0m\u001b[0mlogits\u001b[0m\u001b[1;33m,\u001b[0m \u001b[1;33m[\u001b[0m\u001b[1;33m-\u001b[0m\u001b[1;36m1\u001b[0m\u001b[1;33m,\u001b[0m \u001b[0mself\u001b[0m\u001b[1;33m.\u001b[0m\u001b[0mclass_count\u001b[0m\u001b[1;33m]\u001b[0m\u001b[1;33m)\u001b[0m\u001b[1;33m\u001b[0m\u001b[0m\n",
      "\u001b[1;31mTypeError\u001b[0m: reduce_mean() got an unexpected keyword argument 'keepdims'"
     ]
    }
   ],
   "source": [
    "zagoruyko_depth, k = 28, 10\n",
    "group_count = 3\n",
    "ksizes = [3, 3]\n",
    "blocks_per_group = (zagoruyko_depth - 4) // (group_count * len(ksizes))\n",
    "print(f\"group count: {group_count}, blocks per group: {blocks_per_group}\")\n",
    "group_lengths = [blocks_per_group] * group_count\n",
    "model = ResNet(\n",
    "    input_shape=ds_test.input_shape,\n",
    "    class_count=ds_test.class_count,\n",
    "    batch_size=128,\n",
    "    block_structure=BlockStructure.resnet(\n",
    "        ksizes=ksizes, dropout_locations=[0]),\n",
    "    group_lengths=group_lengths,\n",
    "    base_width=k * 16,\n",
    "    weight_decay=5e-4,\n",
    "    training_log_period=39)\n",
    "assert zagoruyko_depth == model.zagoruyko_depth, \"invalid depth (zagoruyko_depth={}!={}=model.zagoruyko_depth)\".format(\n",
    "    zagoruyko_depth, model.zagoruyko_depth)\n",
    "\n",
    "saved_path = dirs.SAVED_NETS + '/wrn-28-10-train-val/2018-04-22-0517/ResNet'  # vanilla\n",
    "model.load_state(saved_path)"
   ]
  },
  {
   "cell_type": "code",
   "execution_count": null,
   "metadata": {
    "collapsed": true
   },
   "outputs": [],
   "source": [
    "values_in ={'max':[],'nonmax':[], 'sorted':[], 'sums':[]}\n",
    "values_outof ={'max':[],'nonmax':[], 'sorted':[], 'sums':[]}\n",
    "\n",
    "def add_logit_values(ds, values):\n",
    "    cost, ev = model.test(ds)\n",
    "    for im, lab in ds:\n",
    "        logits = model._run(model.nodes.logits, [im], [lab])[0]\n",
    "        sorted_logits = np.sort(logits)[::-1]\n",
    "        values['max'].append(sorted_logits[0])\n",
    "        values['nonmax'].extend(sorted_logits[1:])\n",
    "        values['sorted'].append(sorted_logits)\n",
    "\n",
    "add_logit_values(ds_test, values_in)\n",
    "add_logit_values(ds_test_outof, values_outof)"
   ]
  },
  {
   "cell_type": "code",
   "execution_count": null,
   "metadata": {
    "collapsed": true
   },
   "outputs": [],
   "source": [
    "r = (np.min(values_in['nonmax']+values_outof['nonmax']), np.max(values_in['max']+values_outof['max']))\n",
    "\n",
    "plt.hist(values_in['max'], bins=40, range=r, alpha=0.5, label='CIFAR-10-test') \n",
    "plt.hist(values_outof['max'], bins=40, range=r, alpha=0.5, label='CIFAR-10-test-UD')\n",
    "plt.title(\"[Max logit] distribution\") \n",
    "plt.xlabel('value')\n",
    "plt.ylabel('frequency')\n",
    "plt.legend()\n",
    "plt.show()\n",
    "\n",
    "plt.hist(values_in['nonmax'], bins=40, range=r, alpha=0.5, label='CIFAR-10-test') \n",
    "plt.hist(values_outof['nonmax'], bins=40, range=r, alpha=0.5, label='CIFAR-10-test-UD')\n",
    "plt.title(\"[Non-max logit] distribution\") \n",
    "plt.xlabel('value')\n",
    "plt.ylabel('frequency')\n",
    "plt.legend()\n",
    "plt.show()\n",
    "\n",
    "plt.hist(np.concatenate(values_in['sorted']), bins=40, range=r, alpha=0.5, label='CIFAR-10-test') \n",
    "plt.hist(np.concatenate(values_outof['sorted']), bins=40, range=r, alpha=0.5, label='CIFAR-10-test-UD')\n",
    "plt.title(\"[Any logit] distribution\") \n",
    "plt.xlabel('value')\n",
    "plt.ylabel('frequency')\n",
    "plt.legend()\n",
    "plt.show()\n",
    "\n",
    "for values, label in [(values_in, 'CIFAR-10-test'), (values_outof, 'CIFAR-10-test-UD')]:\n",
    "    plt.scatter(\n",
    "        [sl[0] for sl in values['sorted']],\n",
    "        [np.sum(sl) for sl in values['sorted']], \n",
    "        alpha=0.1, s=2, edgecolors='none', label=label)\n",
    "plt.xlabel('max(logits)')\n",
    "plt.ylabel('sum(logits)')\n",
    "plt.legend()\n",
    "plt.show()\n",
    "\n",
    "for values, label in [(values_in, 'CIFAR-10-test'), (values_outof, 'CIFAR-10-test-UD')]:\n",
    "    plt.scatter(\n",
    "        [sl[0] for sl in values['sorted']],\n",
    "        [sl[1] for sl in values['sorted']], \n",
    "        alpha=0.5, s=2, edgecolors='none', label=label) \n",
    "plt.xlabel('max(logits)')\n",
    "plt.ylabel('sorted_logits[1]')\n",
    "plt.legend()\n",
    "plt.show()\n",
    "\n",
    "for values, label in [(values_in, 'CIFAR-10-test'), (values_outof, 'CIFAR-10-test-UD')]:\n",
    "    plt.scatter(\n",
    "        [sl[0] for sl in values['sorted']],\n",
    "        [sl[1]+sl[2]+sl[3] for sl in values['sorted']], \n",
    "        alpha=0.5, s=2, edgecolors='none', label=label) \n",
    "plt.xlabel('max(logits)')\n",
    "plt.ylabel('sum(sorted_logits[1:3])')\n",
    "plt.legend()\n",
    "plt.show()"
   ]
  }
 ],
 "metadata": {
  "kernelspec": {
   "display_name": "Python 3",
   "language": "python",
   "name": "python3"
  },
  "language_info": {
   "codemirror_mode": {
    "name": "ipython",
    "version": 3
   },
   "file_extension": ".py",
   "mimetype": "text/x-python",
   "name": "python",
   "nbconvert_exporter": "python",
   "pygments_lexer": "ipython3",
   "version": "3.6.3"
  }
 },
 "nbformat": 4,
 "nbformat_minor": 2
}
