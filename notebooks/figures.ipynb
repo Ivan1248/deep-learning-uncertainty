{
 "cells": [
  {
   "cell_type": "code",
   "execution_count": 1,
   "metadata": {
    "collapsed": true
   },
   "outputs": [],
   "source": [
    "%matplotlib inline\n",
    "\n",
    "import numpy as np\n",
    "import matplotlib\n",
    "import matplotlib.pyplot as plt\n",
    "from math import *\n",
    "\n",
    "from matplotlib import rc\n",
    "\n",
    "import torch\n",
    "import torch.nn as nn\n",
    "import torch.nn.functional as F\n",
    "import torch.optim as optim\n",
    "\n",
    "#rc('font',**{'family':'sans-serif','sans-serif':['Helvetica']})\n",
    "## for Palatino and other serif fonts use:\n",
    "#rc('font',**{'family':'serif','serif':['Palatino']})\n",
    "#rc('text', usetex=True)"
   ]
  },
  {
   "cell_type": "code",
   "execution_count": 2,
   "metadata": {
    "collapsed": true
   },
   "outputs": [],
   "source": [
    "scale = 1\n",
    "fontsize_pt = 11*scale # 11.74983\n",
    "fontsize_pt = 10*scale # 11.74983\n",
    "textwidth_pt = 412.56497*scale\n",
    "\n",
    "# https://gist.github.com/martijnvermaat/b5fe45124049b1e8e037\n",
    "\n",
    "def configure(document_fontsize=fontsize_pt, available_width=textwidth_pt):\n",
    "    \"\"\"\n",
    "    Configures Matplotlib so saved figures can be used in LaTeX documents.\n",
    "    Uses the sans-serif TeX Gyre Heros font (Helvetica), also for math.\n",
    "    Arguments:\n",
    "    - document_fontsize: Font size in points (use \"\\the\\fontdimen6\\font\" in\n",
    "      your LaTeX document to get the current value). The default is for a\n",
    "      LaTeX Beamer document at 14pt (\"\\documentclass[14pt]{beamer}\") which\n",
    "      for some reason is slightly more than 14pt.\n",
    "    - available_width: The available width in your LaTeX document, usually\n",
    "      the value of \"\\textwidth\". The default is for a LaTeX Beamer document\n",
    "      with the default theme.\n",
    "    Returns a function that calculates figure size given a fraction of the\n",
    "    available width for the figure to occupy.\n",
    "    Figures can be saved as PDF:\n",
    "        fig.tight_layout(pad=0.1)\n",
    "        fig.savefig('figure.pdf')\n",
    "    And included in your document as follows:\n",
    "        \\begin{frame}\n",
    "          \\begin{center}\n",
    "            \\includegraphics[width=1.0\\textwidth,transparent]{figure.pdf}\n",
    "          \\end{center}\n",
    "        \\end{frame}\n",
    "    Todo:\n",
    "    - Make font family and face configurable.\n",
    "    - Example IPython Notebook and LaTeX document.\n",
    "    - Document dependencies (tex-gyre, dvipng, ...).\n",
    "    Based on: http://damon-is-a-geek.com/publication-ready-the-first-time-beautiful-reproducible-plots-with-matplotlib.html\n",
    "    \"\"\"\n",
    "    def figsize(width_fraction=1.0):\n",
    "        \"\"\"\n",
    "        width_fraction: The fraction of the available width you'd like the figure to occupy.\n",
    "        \"\"\"\n",
    "        width_pt = available_width * width_fraction\n",
    "\n",
    "        inches_per_pt = 1.0 / 72.27\n",
    "        golden_ratio  = (5**0.5 - 1.0) / 2.0\n",
    "\n",
    "        width_in = width_pt * inches_per_pt\n",
    "        height_in = width_in * golden_ratio\n",
    "        return width_in, height_in\n",
    "    \n",
    "    from matplotlib import rcParams\n",
    "    #rcParams['figure.dpi']=160    \n",
    "    rcParams['font.size'] = document_fontsize\n",
    "    rcParams['axes.titlesize'] = document_fontsize\n",
    "    rcParams['axes.labelsize'] = document_fontsize\n",
    "    rcParams['xtick.labelsize'] = document_fontsize\n",
    "    rcParams['ytick.labelsize'] = document_fontsize\n",
    "    rcParams['legend.fontsize'] = document_fontsize\n",
    "    #rcParams['font.family'] = 'sans-serif'\n",
    "    #rcParams['font.sans-serif'] = ['tgheros']\n",
    "    #rcParams['font.serif'] = ['cm10']\n",
    "    rcParams['text.usetex'] = True\n",
    "    rcParams['text.latex.preamble'] = r\"\"\"\n",
    "        \\usepackage[T1]{fontenc}\n",
    "        \\usepackage{amsmath}\n",
    "        \\usepackage{amsfonts}\n",
    "        \\usepackage{amssymb}\n",
    "        \\DeclareMathOperator*{\\argmax}{arg\\,max}\n",
    "        \\DeclareMathOperator*{\\argmin}{arg\\,min}\n",
    "        \\DeclareMathOperator*{\\Dklsym}{D_{\\mathrm{KL}}}\n",
    "        \\newcommand{\\Dkl}[2]{\\Dklsym\\left(#1\\;\\middle\\|\\;#2\\right)}\n",
    "        \"\"\"\n",
    "    rcParams['figure.figsize'] = figsize()\n",
    "\n",
    "    return figsize\n",
    "figsize = configure()"
   ]
  },
  {
   "cell_type": "markdown",
   "metadata": {},
   "source": [
    "## Homoscedastic and heteroscedastic noise"
   ]
  },
  {
   "cell_type": "code",
   "execution_count": 3,
   "metadata": {},
   "outputs": [
    {
     "data": {
      "image/png": "[encoded data removed]",
      "text/plain": [
       "<matplotlib.figure.Figure at 0x192a7f8a400>"
      ]
     },
     "metadata": {},
     "output_type": "display_data"
    }
   ],
   "source": [
    "x = np.linspace(0, 10, num=200)\n",
    "f = lambda x: sin(x)+2*cos(x/2)+6\n",
    "e = lambda x: 2*exp(-(x-5)**2/3)+0.3\n",
    "y = np.array([f(x) for x in x])\n",
    "ye = np.array([e(x) for x in x])\n",
    "\n",
    "x_samples = np.random.rand(200)*10\n",
    "y_samples = np.array([f(x) for x in x_samples])\n",
    "ye_heterosced_samples = np.array([f(x)+np.random.randn()*e(x) for x in x_samples])\n",
    "ye_homosced_samples = np.array([f(x)+np.random.randn() for x in x_samples])\n",
    "\n",
    "w, h = figsize()\n",
    "\n",
    "fig, (ax1, ax2) = plt.subplots(1, 2, sharey=True, figsize=(w,h*0.6))\n",
    "\n",
    "ax1.fill_between(x, y-1, y+1, facecolor='C0', alpha=0.15, lw=0, interpolate=False)\n",
    "ax1.plot(x, y, color='C0')\n",
    "ax1.scatter(x_samples, ye_homosced_samples, s=1)\n",
    "ax1.set_xlabel('$x$')\n",
    "ax1.set_ylabel('$y$')\n",
    "\n",
    "ax2.fill_between(x, y-ye, y+ye, facecolor='C0', alpha=0.15, lw=0, interpolate=False)\n",
    "ax2.plot(x, y, color='C0')\n",
    "ax2.scatter(x_samples, ye_heterosced_samples, s=1)\n",
    "ax2.set_xlabel('$x$')\n",
    "\n",
    "fig.tight_layout(pad=0.1)\n",
    "\n",
    "# \\includegraphics[width=1.0\\textwidth,transpaent]{figure.pdf}"
   ]
  },
  {
   "cell_type": "code",
   "execution_count": 4,
   "metadata": {
    "collapsed": true
   },
   "outputs": [],
   "source": [
    "fig.savefig('../data/plots/homoscedastic-heteroscedastic-noises.pdf')"
   ]
  },
  {
   "cell_type": "markdown",
   "metadata": {},
   "source": [
    "## KL-divergence asymmetry and minimization"
   ]
  },
  {
   "cell_type": "code",
   "execution_count": 6,
   "metadata": {
    "scrolled": false
   },
   "outputs": [
    {
     "name": "stdout",
     "output_type": "stream",
     "text": [
      "1 0.019831667 1.352676e-05 2.7182817 [2.5808293e-15 2.7957521e-15 3.0282667e-15 3.2797942e-15 3.5518537e-15]\n",
      "2 0.025193091 -1.9999897 1.0 [2.5808293e-15 2.7957521e-15 3.0282667e-15 3.2797942e-15 3.5518537e-15]\n",
      "1 0.019535435 0.20000014 2.8775592 [1.3072624e-13 1.4046473e-13 1.5091433e-13 1.6212612e-13 1.7415381e-13]\n",
      "2 0.025122037 -1.971312 1.0414004 [1.3072624e-13 1.4046473e-13 1.5091433e-13 1.6212612e-13 1.7415381e-13]\n",
      "1 0.019535435 0.20000014 2.8775098 [1.2117633e-13 1.3022107e-13 1.3993053e-13 1.5034678e-13 1.6152464e-13]\n",
      "2 0.025121985 -1.9710681 1.0404453 [1.2117633e-13 1.3022107e-13 1.3993053e-13 1.5034678e-13 1.6152464e-13]\n",
      "1 0.019535398 0.20000014 2.8766103 [1.1563135e-13 1.2427411e-13 1.3355049e-13 1.4350591e-13 1.5418875e-13]\n",
      "2 0.02512199 -1.9709123 1.0398597 [1.1563135e-13 1.2427411e-13 1.3355049e-13 1.4350591e-13 1.5418875e-13]\n",
      "1 0.019535366 0.20000014 2.8752716 [1.12939335e-13 1.21386842e-13 1.30453428e-13 1.40184143e-13\n",
      " 1.50626324e-13]\n",
      "2 0.025122 -1.9708284 1.0395663 [1.12939335e-13 1.21386842e-13 1.30453428e-13 1.40184143e-13\n",
      " 1.50626324e-13]\n"
     ]
    },
    {
     "data": {
      "image/png": "[encoded data removed]",
      "text/plain": [
       "<matplotlib.figure.Figure at 0x192a7ed8978>"
      ]
     },
     "metadata": {},
     "output_type": "display_data"
    }
   ],
   "source": [
    "def klam():\n",
    "    normal = lambda m, s: (lambda x: 1/((2*np.pi)**0.5*s)*torch.exp(-(x-m)**2/(2*s**2)))\n",
    "    \n",
    "    # fixed distribution\n",
    "    p = lambda x: 0.6*normal(-2.0, 1)(x) + 0.4*normal(3.5, 1)(x)\n",
    "    \n",
    "    # variable approximating distribution\n",
    "    params1 = [torch.tensor(v, requires_grad=True) for v in [0.0, 1.0]]\n",
    "    m1, logs1 = params1\n",
    "    \n",
    "    params2 = [torch.tensor(v, requires_grad=True) for v in [-2.0, 0.0]]\n",
    "    m2, logs2 = params2\n",
    "    \n",
    "    params = params1 + params2\n",
    "\n",
    "    # KL-divergence sub-integral function\n",
    "    dkl_sub = lambda p, q: (lambda x: p(x)*torch.log(p(x)/q(x)))\n",
    "    \n",
    "    lr = 1e-2\n",
    "    optimizer = optim.SGD(params, lr=lr, momentum=0.9)\n",
    "    \n",
    "    iter_count = 20000\n",
    "    for i in range(iter_count):\n",
    "        #xs = torch.rand(1000)*20-10\n",
    "        xs = torch.linspace(-10, 10, steps=2000)\n",
    "          \n",
    "        s1 = torch.exp(logs1)\n",
    "        s2 = torch.exp(logs2)\n",
    "        q1 = normal(m1, s1)\n",
    "        q2 = normal(m2, s2)\n",
    "    \n",
    "        losses_pq = dkl_sub(p, q1)(xs)\n",
    "        losses_qp = dkl_sub(q2, p)(xs)\n",
    "        loss1 = losses_pq.mean()\n",
    "        loss2 = losses_qp.mean()\n",
    "        loss = loss1 + loss2\n",
    "\n",
    "        loss.backward(retain_graph=True)\n",
    "        torch.nn.utils.clip_grad_norm_(params, 1e-3/(i+1)**0.5/lr)\n",
    "        for v in params:\n",
    "            v.grad.data[v.grad.data!=v.grad.data] = 0\n",
    "            #v.data.add_(-lr, v.grad.data)\n",
    "        optimizer.step()\n",
    "        \n",
    "        if i % (iter_count//5) == 0:\n",
    "            print(1, loss1.detach().numpy(), m1.detach().numpy(), s1.detach().numpy(), losses_qp.detach().numpy()[:5])\n",
    "            print(2, loss2.detach().numpy(), m2.detach().numpy(), s2.detach().numpy(), losses_qp.detach().numpy()[:5])\n",
    "    \n",
    "    # Plotting\n",
    "\n",
    "    x = torch.linspace(-8, 8, steps=400)\n",
    "    yp = torch.stack(list(map(p, x)))\n",
    "    yq1 = torch.stack(list(map(q1, x)))\n",
    "    yq2 = torch.stack(list(map(q2, x)))\n",
    "\n",
    "    dkl_subqp1 = dkl_sub(q1,p)(x).detach().numpy()\n",
    "    dkl_subpq1 = dkl_sub(p,q1)(x).detach().numpy()\n",
    "\n",
    "    dkl_subqp2 = dkl_sub(q2,p)(x).detach().numpy()\n",
    "    dkl_subpq2 = dkl_sub(p,q2)(x).detach().numpy()\n",
    "\n",
    "    x = x.numpy()\n",
    "\n",
    "    w, h = figsize()\n",
    "\n",
    "    def plot_filled(ax, x, y, color, label='$y$'):\n",
    "        ax.fill_between(x, 0, y, facecolor=color, alpha=0.1, lw=0, interpolate=False)\n",
    "        ax.plot(x, y, color=color, label=label)\n",
    "\n",
    "    fig, axes = plt.subplots(2, 2, sharey='row', figsize=(w, h*0.6*2))\n",
    "    plot_filled(axes[0,0], x, yp.detach().numpy(), 'C0', r'$p(x)$')\n",
    "    plot_filled(axes[0,0], x, yq1.detach().numpy(), 'C1', r'$q^*(x)$')\n",
    "    axes[0,0].legend()\n",
    "    axes[0,0].set_title(r'$q^*=\\argmin_q \\Dkl{p}{q}$')\n",
    "    axes[0,0].axhline(linewidth=1, color='k')\n",
    "    plot_filled(axes[0,1], x, yp.detach().numpy(), 'C0', r'$p(x)$')\n",
    "    plot_filled(axes[0,1], x, yq2.detach().numpy(), 'C1', r'$q^*(x)$')\n",
    "    axes[0,1].legend()\n",
    "    axes[0,1].set_title(r'$q^*=\\argmin_q \\Dkl{q}{p}$')\n",
    "    axes[0,1].axhline(linewidth=1, color='k')\n",
    "    plot_filled(axes[1,0], x, dkl_subpq1, 'C3', r'$p(x)\\ln\\frac{p(x)}{q^*(x)}$')\n",
    "    plot_filled(axes[1,0], x, dkl_subqp1, 'C2', r'$q^*(x)\\ln\\frac{q^*(x)}{p(x)}$')\n",
    "    axes[1,0].set_xlabel('$x$')\n",
    "    axes[1,0].legend()\n",
    "    axes[1,0].axhline(linewidth=1, color='k')\n",
    "    plot_filled(axes[1,1], x, dkl_subpq2, 'C3', r'$p(x)\\ln\\frac{p(x)}{q^*(x)}$') \n",
    "    plot_filled(axes[1,1], x, dkl_subqp2, 'C2', r'$q^*(x)\\ln\\frac{q^*(x)}{p(x)}$')\n",
    "    axes[1,1].set_xlabel('$x$')\n",
    "    axes[1,1].legend()\n",
    "    axes[1,1].axhline(linewidth=1, color='k')\n",
    "    fig.tight_layout(pad=0.1)\n",
    "    return fig\n",
    "\n",
    "fig = klam()"
   ]
  },
  {
   "cell_type": "code",
   "execution_count": 7,
   "metadata": {
    "collapsed": true
   },
   "outputs": [],
   "source": [
    "fig.savefig('../data/plots/dkl-asymmetry.pdf')"
   ]
  },
  {
   "cell_type": "code",
   "execution_count": null,
   "metadata": {
    "collapsed": true
   },
   "outputs": [],
   "source": []
  },
  {
   "cell_type": "code",
   "execution_count": null,
   "metadata": {
    "collapsed": true
   },
   "outputs": [],
   "source": []
  }
 ],
 "metadata": {
  "kernelspec": {
   "display_name": "Python 3",
   "language": "python",
   "name": "python3"
  },
  "language_info": {
   "codemirror_mode": {
    "name": "ipython",
    "version": 3
   },
   "file_extension": ".py",
   "mimetype": "text/x-python",
   "name": "python",
   "nbconvert_exporter": "python",
   "pygments_lexer": "ipython3",
   "version": "3.6.3"
  }
 },
 "nbformat": 4,
 "nbformat_minor": 2
}
