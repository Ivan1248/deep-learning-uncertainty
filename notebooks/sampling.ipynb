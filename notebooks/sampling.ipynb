{
 "cells": [
  {
   "cell_type": "code",
   "execution_count": 1,
   "metadata": {
    "collapsed": true
   },
   "outputs": [],
   "source": [
    "%matplotlib inline\n",
    "\n",
    "import numpy as np\n",
    "import matplotlib\n",
    "import matplotlib.pyplot as plt\n",
    "from math import *\n",
    "import tensorflow as tf\n",
    "\n",
    "from _context import dl_uncertainty\n",
    "import dl_uncertainty.tf_utils as tf_utils\n",
    "import dl_uncertainty.tf_utils.layers as layers"
   ]
  },
  {
   "cell_type": "code",
   "execution_count": 2,
   "metadata": {
    "collapsed": true
   },
   "outputs": [],
   "source": [
    "x = tf.constant(np.array([[1,2],[3,4.0]]), dtype=tf.float32)\n",
    "sess = tf.Session()"
   ]
  },
  {
   "cell_type": "markdown",
   "metadata": {},
   "source": [
    "## 1. Sampling random operations with no variables"
   ]
  },
  {
   "cell_type": "markdown",
   "metadata": {},
   "source": [
    "### 1.1. Dropout"
   ]
  },
  {
   "cell_type": "code",
   "execution_count": 3,
   "metadata": {},
   "outputs": [
    {
     "name": "stdout",
     "output_type": "stream",
     "text": [
      "asdasfasfasfasdasdsa \n"
     ]
    },
    {
     "ename": "NameError",
     "evalue": "name 'exit' is not defined",
     "output_type": "error",
     "traceback": [
      "\u001b[1;31m---------------------------------------------------------------------------\u001b[0m",
      "\u001b[1;31mNameError\u001b[0m                                 Traceback (most recent call last)",
      "\u001b[1;32m<ipython-input-3-ecd15ef33f99>\u001b[0m in \u001b[0;36m<module>\u001b[1;34m()\u001b[0m\n\u001b[0;32m      3\u001b[0m     \u001b[1;32mreturn\u001b[0m \u001b[0mtf\u001b[0m\u001b[1;33m.\u001b[0m\u001b[0mnn\u001b[0m\u001b[1;33m.\u001b[0m\u001b[0mdropout\u001b[0m\u001b[1;33m(\u001b[0m\u001b[0mx\u001b[0m\u001b[1;33m,\u001b[0m \u001b[0mkeep_prob\u001b[0m\u001b[1;33m=\u001b[0m\u001b[1;36m0.5\u001b[0m\u001b[1;33m)\u001b[0m\u001b[1;33m\u001b[0m\u001b[0m\n\u001b[0;32m      4\u001b[0m \u001b[1;33m\u001b[0m\u001b[0m\n\u001b[1;32m----> 5\u001b[1;33m \u001b[0mys\u001b[0m \u001b[1;33m=\u001b[0m \u001b[0mlayers\u001b[0m\u001b[1;33m.\u001b[0m\u001b[0msample\u001b[0m\u001b[1;33m(\u001b[0m\u001b[1;32mlambda\u001b[0m \u001b[0mx\u001b[0m\u001b[1;33m:\u001b[0m \u001b[0mdropout\u001b[0m\u001b[1;33m(\u001b[0m\u001b[0mx\u001b[0m\u001b[1;33m,\u001b[0m \u001b[0mname\u001b[0m\u001b[1;33m=\u001b[0m\u001b[1;34m'do'\u001b[0m\u001b[1;33m)\u001b[0m\u001b[1;33m,\u001b[0m \u001b[0mx\u001b[0m\u001b[1;33m,\u001b[0m \u001b[1;36m100\u001b[0m\u001b[1;33m)\u001b[0m\u001b[1;33m\u001b[0m\u001b[0m\n\u001b[0m\u001b[0;32m      6\u001b[0m \u001b[0my_mean\u001b[0m \u001b[1;33m=\u001b[0m \u001b[0mtf\u001b[0m\u001b[1;33m.\u001b[0m\u001b[0mreduce_mean\u001b[0m\u001b[1;33m(\u001b[0m\u001b[0mys\u001b[0m\u001b[1;33m,\u001b[0m \u001b[1;36m0\u001b[0m\u001b[1;33m)\u001b[0m  \u001b[1;31m# should approximate x\u001b[0m\u001b[1;33m\u001b[0m\u001b[0m\n\u001b[0;32m      7\u001b[0m \u001b[0mys2\u001b[0m \u001b[1;33m=\u001b[0m \u001b[0mlayers\u001b[0m\u001b[1;33m.\u001b[0m\u001b[0msample\u001b[0m\u001b[1;33m(\u001b[0m\u001b[1;32mlambda\u001b[0m \u001b[0mx\u001b[0m\u001b[1;33m:\u001b[0m \u001b[0mdropout\u001b[0m\u001b[1;33m(\u001b[0m\u001b[0mx\u001b[0m\u001b[1;33m,\u001b[0m \u001b[0mname\u001b[0m\u001b[1;33m=\u001b[0m\u001b[1;34m'do'\u001b[0m\u001b[1;33m)\u001b[0m\u001b[1;33m,\u001b[0m \u001b[0mx\u001b[0m\u001b[1;33m,\u001b[0m \u001b[1;36m8\u001b[0m\u001b[1;33m,\u001b[0m \u001b[0mexamplewise\u001b[0m\u001b[1;33m=\u001b[0m\u001b[1;32mTrue\u001b[0m\u001b[1;33m)\u001b[0m\u001b[1;33m\u001b[0m\u001b[0m\n",
      "\u001b[1;32mD:\\Google Drive\\Projects\\DCNN-uncertainty\\dl_uncertainty\\tf_utils\\layers.py\u001b[0m in \u001b[0;36mwrapper\u001b[1;34m(reuse, name, *args, **kwargs)\u001b[0m\n\u001b[0;32m     21\u001b[0m         with tf.variable_scope(\n\u001b[0;32m     22\u001b[0m                 name, default_name=fun.__name__, values=tensors, reuse=reuse):\n\u001b[1;32m---> 23\u001b[1;33m             \u001b[1;32mreturn\u001b[0m \u001b[0mfun\u001b[0m\u001b[1;33m(\u001b[0m\u001b[1;33m*\u001b[0m\u001b[0margs\u001b[0m\u001b[1;33m,\u001b[0m \u001b[1;33m**\u001b[0m\u001b[0mkwargs\u001b[0m\u001b[1;33m)\u001b[0m\u001b[1;33m\u001b[0m\u001b[0m\n\u001b[0m\u001b[0;32m     24\u001b[0m \u001b[1;33m\u001b[0m\u001b[0m\n\u001b[0;32m     25\u001b[0m     \u001b[1;32mreturn\u001b[0m \u001b[0mwrapper\u001b[0m\u001b[1;33m\u001b[0m\u001b[0m\n",
      "\u001b[1;32mD:\\Google Drive\\Projects\\DCNN-uncertainty\\dl_uncertainty\\tf_utils\\layers.py\u001b[0m in \u001b[0;36msample\u001b[1;34m(fn, x, n, examplewise, max_batch_size, backprop, use_tf_loop)\u001b[0m\n\u001b[0;32m    294\u001b[0m         \u001b[0mexamples_per_iteration\u001b[0m \u001b[1;33m=\u001b[0m \u001b[0mmax\u001b[0m\u001b[1;33m(\u001b[0m\u001b[1;36m1\u001b[0m\u001b[1;33m,\u001b[0m \u001b[0mmax_batch_size\u001b[0m \u001b[1;33m//\u001b[0m \u001b[0mn\u001b[0m\u001b[1;33m)\u001b[0m\u001b[1;33m\u001b[0m\u001b[0m\n\u001b[0;32m    295\u001b[0m         \u001b[0mprint\u001b[0m\u001b[1;33m(\u001b[0m\u001b[1;34m\"asdasfasfasfasdasdsa \"\u001b[0m\u001b[1;33m)\u001b[0m\u001b[1;33m\u001b[0m\u001b[0m\n\u001b[1;32m--> 296\u001b[1;33m         \u001b[0mexit\u001b[0m\u001b[1;33m(\u001b[0m\u001b[1;33m)\u001b[0m\u001b[1;33m\u001b[0m\u001b[0m\n\u001b[0m\u001b[0;32m    297\u001b[0m         ys = tf.map_fn(\n\u001b[0;32m    298\u001b[0m             \u001b[0mfn\u001b[0m\u001b[1;33m=\u001b[0m\u001b[1;32mlambda\u001b[0m \u001b[0mx\u001b[0m\u001b[1;33m:\u001b[0m \u001b[0msample_inner\u001b[0m\u001b[1;33m(\u001b[0m\u001b[0mfn\u001b[0m\u001b[1;33m,\u001b[0m \u001b[0mx\u001b[0m\u001b[1;33m,\u001b[0m \u001b[0mn\u001b[0m\u001b[1;33m)\u001b[0m\u001b[1;33m,\u001b[0m  \u001b[1;31m# [H,W,C]->[n,H,W,C]\u001b[0m\u001b[1;33m\u001b[0m\u001b[0m\n",
      "\u001b[1;31mNameError\u001b[0m: name 'exit' is not defined"
     ]
    }
   ],
   "source": [
    "@layers.scoped\n",
    "def dropout(x):\n",
    "    return tf.nn.dropout(x, keep_prob=0.5)\n",
    "\n",
    "ys = layers.sample(lambda x: dropout(x, name='do'), x, 100)\n",
    "y_mean = tf.reduce_mean(ys, 0)  # should approximate x\n",
    "ys2 = layers.sample(lambda x: dropout(x, name='do'), x, 8, examplewise=True)"
   ]
  },
  {
   "cell_type": "code",
   "execution_count": null,
   "metadata": {
    "scrolled": true
   },
   "outputs": [],
   "source": [
    "sess.run(tf.global_variables_initializer())\n",
    "\n",
    "print('x')\n",
    "print(sess.run(x))\n",
    "\n",
    "print('')\n",
    "print('dropout(x) sampling ([n,N,...]) (first 3 samples)')\n",
    "s = sess.run(ys)\n",
    "print(s[:3], '...')\n",
    "print('shape:', s.shape)\n",
    "\n",
    "print('')\n",
    "print('Sample mean (estimation of x)')\n",
    "m = sess.run(y_mean)\n",
    "print(m)\n",
    "\n",
    "print('')\n",
    "print('Example-wise dropout(x) sampling (first 2 elements)')\n",
    "s = sess.run(ys2)\n",
    "print(s[:2], '...')\n",
    "print('shape:', s.shape)"
   ]
  },
  {
   "cell_type": "markdown",
   "metadata": {},
   "source": [
    "### 1.2. `tf.random_*`, `use_tf_loop=False`"
   ]
  },
  {
   "cell_type": "code",
   "execution_count": null,
   "metadata": {},
   "outputs": [],
   "source": [
    "@layers.scoped\n",
    "def random(m, sd):\n",
    "    print(x.shape)\n",
    "    return tf.random_normal(shape=m.shape, mean=m, stddev=sd)\n",
    "\n",
    "ys = layers.sample(lambda x: random(x, x), x, 100, examplewise=False, use_tf_loop=False)\n",
    "y_mean = tf.reduce_mean(ys, 0)  # should approximate x"
   ]
  },
  {
   "cell_type": "code",
   "execution_count": 4,
   "metadata": {},
   "outputs": [
    {
     "name": "stdout",
     "output_type": "stream",
     "text": [
      "\n",
      "random_normal(x, x) sampling ([n,N,...]) (first 3 samples)\n"
     ]
    },
    {
     "ename": "NameError",
     "evalue": "name 'ys' is not defined",
     "output_type": "error",
     "traceback": [
      "\u001b[1;31m---------------------------------------------------------------------------\u001b[0m",
      "\u001b[1;31mNameError\u001b[0m                                 Traceback (most recent call last)",
      "\u001b[1;32m<ipython-input-4-728f77199dd3>\u001b[0m in \u001b[0;36m<module>\u001b[1;34m()\u001b[0m\n\u001b[0;32m      1\u001b[0m \u001b[0mprint\u001b[0m\u001b[1;33m(\u001b[0m\u001b[1;34m''\u001b[0m\u001b[1;33m)\u001b[0m\u001b[1;33m\u001b[0m\u001b[0m\n\u001b[0;32m      2\u001b[0m \u001b[0mprint\u001b[0m\u001b[1;33m(\u001b[0m\u001b[1;34m'random_normal(x, x) sampling ([n,N,...]) (first 3 samples)'\u001b[0m\u001b[1;33m)\u001b[0m\u001b[1;33m\u001b[0m\u001b[0m\n\u001b[1;32m----> 3\u001b[1;33m \u001b[0ms\u001b[0m \u001b[1;33m=\u001b[0m \u001b[0msess\u001b[0m\u001b[1;33m.\u001b[0m\u001b[0mrun\u001b[0m\u001b[1;33m(\u001b[0m\u001b[0mys\u001b[0m\u001b[1;33m)\u001b[0m\u001b[1;33m\u001b[0m\u001b[0m\n\u001b[0m\u001b[0;32m      4\u001b[0m \u001b[0mprint\u001b[0m\u001b[1;33m(\u001b[0m\u001b[0ms\u001b[0m\u001b[1;33m[\u001b[0m\u001b[1;33m:\u001b[0m\u001b[1;36m3\u001b[0m\u001b[1;33m]\u001b[0m\u001b[1;33m,\u001b[0m \u001b[1;34m'...'\u001b[0m\u001b[1;33m)\u001b[0m\u001b[1;33m\u001b[0m\u001b[0m\n\u001b[0;32m      5\u001b[0m \u001b[0mprint\u001b[0m\u001b[1;33m(\u001b[0m\u001b[1;34m'shape:'\u001b[0m\u001b[1;33m,\u001b[0m \u001b[0ms\u001b[0m\u001b[1;33m.\u001b[0m\u001b[0mshape\u001b[0m\u001b[1;33m)\u001b[0m\u001b[1;33m\u001b[0m\u001b[0m\n",
      "\u001b[1;31mNameError\u001b[0m: name 'ys' is not defined"
     ]
    }
   ],
   "source": [
    "print('')\n",
    "print('random_normal(x, x) sampling ([n,N,...]) (first 3 samples)')\n",
    "s = sess.run(ys)\n",
    "print(s[:3], '...')\n",
    "print('shape:', s.shape)\n",
    "\n",
    "print('')\n",
    "print('Sample mean (estimation of x)')\n",
    "m = sess.run(y_mean)\n",
    "print(m)"
   ]
  },
  {
   "cell_type": "markdown",
   "metadata": {},
   "source": [
    "## 2. Sampling operations with variables"
   ]
  },
  {
   "cell_type": "code",
   "execution_count": 10,
   "metadata": {
    "collapsed": true
   },
   "outputs": [],
   "source": [
    "def init_func(*args, **kwargs): return tf.random_uniform([])\n",
    "\n",
    "@layers.scoped\n",
    "def rando(x):\n",
    "    v = tf.get_variable(\"var\", initializer=tf.random_uniform(x.shape))\n",
    "    #tf.get_variable_scope().reuse_variables()\n",
    "    print(v)\n",
    "    return tf.random_uniform(x.shape)*v*tf.identity(x)"
   ]
  },
  {
   "cell_type": "code",
   "execution_count": 11,
   "metadata": {
    "scrolled": false
   },
   "outputs": [
    {
     "name": "stdout",
     "output_type": "stream",
     "text": [
      "<tf.Variable 'sample_2/rando/var:0' shape=() dtype=float32_ref>\n"
     ]
    }
   ],
   "source": [
    "#trando = tf.make_template('rando', rando)\n",
    "#rr = [tf.map_fn(rando, x) for _ in range(2)]\n",
    "samp = layers.sample(rando, x, 100, use_tf_loop=False)"
   ]
  },
  {
   "cell_type": "code",
   "execution_count": 12,
   "metadata": {},
   "outputs": [
    {
     "name": "stdout",
     "output_type": "stream",
     "text": [
      "[[[1.89889350e-03 1.23591803e-01]\n",
      "  [1.91727206e-01 5.53176880e-01]]\n",
      "\n",
      " [[1.21515438e-01 1.53365061e-01]\n",
      "  [2.98762590e-01 5.19324720e-01]]\n",
      "\n",
      " [[3.65770683e-02 2.68574029e-01]\n",
      "  [2.16931663e-02 5.64989567e-01]]\n",
      "\n",
      " [[1.03111984e-02 2.78570950e-01]\n",
      "  [1.17893711e-01 1.05087578e-01]]\n",
      "\n",
      " [[3.99599038e-02 8.19527283e-02]\n",
      "  [2.74180844e-02 1.70953140e-01]]\n",
      "\n",
      " [[7.58823678e-02 2.02116206e-01]\n",
      "  [8.91020298e-02 4.59489465e-01]]\n",
      "\n",
      " [[6.60599992e-02 4.58325632e-02]\n",
      "  [4.16928768e-01 5.54927766e-01]]\n",
      "\n",
      " [[9.33806747e-02 2.03214571e-01]\n",
      "  [3.72164994e-01 3.23068053e-02]]\n",
      "\n",
      " [[9.67135727e-02 1.66488603e-01]\n",
      "  [8.60765725e-02 2.60945916e-01]]\n",
      "\n",
      " [[1.01071849e-01 6.51322827e-02]\n",
      "  [2.99444556e-01 4.97165173e-01]]\n",
      "\n",
      " [[6.76757172e-02 2.04102710e-01]\n",
      "  [7.45904222e-02 3.90253246e-01]]\n",
      "\n",
      " [[5.10625914e-03 7.77763724e-02]\n",
      "  [4.03987288e-01 3.95837426e-01]]\n",
      "\n",
      " [[6.26661405e-02 1.06704514e-03]\n",
      "  [3.53792787e-01 3.21665615e-01]]\n",
      "\n",
      " [[9.37907845e-02 1.70786321e-01]\n",
      "  [2.45273173e-01 3.83480638e-01]]\n",
      "\n",
      " [[5.67786396e-02 2.00928077e-01]\n",
      "  [8.36380124e-02 4.27336842e-01]]\n",
      "\n",
      " [[9.44188237e-02 2.21624628e-01]\n",
      "  [1.36967972e-01 5.23652881e-03]]\n",
      "\n",
      " [[4.74509224e-03 2.52102339e-03]\n",
      "  [6.60321191e-02 4.04742390e-01]]\n",
      "\n",
      " [[8.67761523e-02 1.41014177e-02]\n",
      "  [2.47486942e-02 3.48719299e-01]]\n",
      "\n",
      " [[3.06930989e-02 1.44022122e-01]\n",
      "  [2.07444191e-01 2.10897490e-01]]\n",
      "\n",
      " [[5.85622936e-02 1.97611719e-01]\n",
      "  [4.25738990e-01 6.25660568e-02]]\n",
      "\n",
      " [[1.13221928e-01 7.38624483e-02]\n",
      "  [2.15052217e-01 6.88603893e-02]]\n",
      "\n",
      " [[1.90944374e-02 6.93029538e-02]\n",
      "  [2.86900878e-01 7.04855891e-03]]\n",
      "\n",
      " [[1.79755054e-02 1.56491935e-01]\n",
      "  [3.17593127e-01 4.31157291e-01]]\n",
      "\n",
      " [[1.86793171e-02 5.23629524e-02]\n",
      "  [1.77937537e-01 2.30641976e-01]]\n",
      "\n",
      " [[6.79944456e-02 1.05564915e-01]\n",
      "  [1.96984425e-01 1.54459655e-01]]\n",
      "\n",
      " [[6.19748943e-02 2.39508972e-01]\n",
      "  [2.48608947e-01 3.31619769e-01]]\n",
      "\n",
      " [[1.12485267e-01 1.32427365e-01]\n",
      "  [3.18310559e-01 5.01514375e-01]]\n",
      "\n",
      " [[1.35730028e-01 2.03397870e-01]\n",
      "  [2.16892045e-02 2.13411137e-01]]\n",
      "\n",
      " [[1.37014076e-01 1.16198868e-01]\n",
      "  [3.97357404e-01 3.65635417e-02]]\n",
      "\n",
      " [[1.33966906e-02 1.99886799e-01]\n",
      "  [3.27268511e-01 2.33362153e-01]]\n",
      "\n",
      " [[8.45420454e-03 1.28313348e-01]\n",
      "  [3.16964328e-01 3.27692419e-01]]\n",
      "\n",
      " [[4.20792997e-02 2.66068894e-03]\n",
      "  [7.79956728e-02 3.87178242e-01]]\n",
      "\n",
      " [[1.39520079e-01 1.10904202e-01]\n",
      "  [2.90969461e-01 3.77455354e-02]]\n",
      "\n",
      " [[6.04094341e-02 2.27129653e-01]\n",
      "  [2.08221287e-01 4.38604712e-01]]\n",
      "\n",
      " [[6.35698214e-02 2.55532533e-01]\n",
      "  [2.15235680e-01 2.57617801e-01]]\n",
      "\n",
      " [[7.90995508e-02 1.53836325e-01]\n",
      "  [3.75487894e-01 2.70548612e-01]]\n",
      "\n",
      " [[7.26369321e-02 2.44112179e-01]\n",
      "  [1.49829552e-01 4.86257710e-02]]\n",
      "\n",
      " [[1.31486617e-02 2.30507657e-01]\n",
      "  [1.85638487e-01 3.51918712e-02]]\n",
      "\n",
      " [[6.44211248e-02 2.13810831e-01]\n",
      "  [1.45047039e-01 8.29725415e-02]]\n",
      "\n",
      " [[1.13331035e-01 2.01227799e-01]\n",
      "  [4.11936283e-01 3.50142092e-01]]\n",
      "\n",
      " [[6.87969029e-02 8.73920023e-02]\n",
      "  [3.70940417e-01 4.16611761e-01]]\n",
      "\n",
      " [[7.24060014e-02 5.74798957e-02]\n",
      "  [2.50449367e-02 6.43468723e-02]]\n",
      "\n",
      " [[1.00272812e-01 6.63733259e-02]\n",
      "  [4.89325300e-02 4.85443100e-02]]\n",
      "\n",
      " [[1.29320860e-01 2.73792028e-01]\n",
      "  [1.04675563e-02 2.74136245e-01]]\n",
      "\n",
      " [[1.39389023e-01 1.16524346e-01]\n",
      "  [5.21041565e-02 1.39381867e-02]]\n",
      "\n",
      " [[4.05489877e-02 2.19734520e-01]\n",
      "  [3.87351573e-01 1.58643872e-01]]\n",
      "\n",
      " [[7.65465870e-02 1.65475428e-01]\n",
      "  [2.28718072e-01 2.16759726e-01]]\n",
      "\n",
      " [[6.97411969e-02 4.50896099e-02]\n",
      "  [2.39308521e-01 5.05207539e-01]]\n",
      "\n",
      " [[7.68685415e-02 2.70468593e-01]\n",
      "  [1.52303159e-01 5.14614105e-01]]\n",
      "\n",
      " [[6.72438219e-02 2.24481761e-01]\n",
      "  [1.16905242e-01 6.27227575e-02]]\n",
      "\n",
      " [[2.03220733e-02 2.65595049e-01]\n",
      "  [4.73400392e-02 5.29154003e-01]]\n",
      "\n",
      " [[9.88534689e-02 1.45871222e-01]\n",
      "  [2.33627886e-01 5.10595679e-01]]\n",
      "\n",
      " [[5.54613285e-02 2.32791170e-01]\n",
      "  [9.21008289e-02 3.73025388e-01]]\n",
      "\n",
      " [[5.56182303e-02 2.23327234e-01]\n",
      "  [2.42876351e-01 3.24835569e-01]]\n",
      "\n",
      " [[3.67282964e-02 2.48249218e-01]\n",
      "  [1.47768945e-01 4.18125279e-02]]\n",
      "\n",
      " [[9.34792012e-02 1.05467001e-02]\n",
      "  [3.14338475e-01 1.35209575e-01]]\n",
      "\n",
      " [[7.60885850e-02 1.68341398e-01]\n",
      "  [2.69856483e-01 3.92343998e-01]]\n",
      "\n",
      " [[1.27991974e-01 1.21892720e-01]\n",
      "  [6.59106895e-02 3.30587626e-01]]\n",
      "\n",
      " [[1.09627852e-02 3.15428227e-02]\n",
      "  [7.97338188e-02 2.91607499e-01]]\n",
      "\n",
      " [[1.29312743e-02 9.80659425e-02]\n",
      "  [2.20438451e-01 4.23799753e-01]]\n",
      "\n",
      " [[2.17738338e-02 2.63090402e-01]\n",
      "  [2.80870378e-01 2.38173217e-01]]\n",
      "\n",
      " [[1.57956891e-02 6.11847080e-02]\n",
      "  [2.10143656e-01 5.16473055e-01]]\n",
      "\n",
      " [[4.93277051e-02 5.50707392e-02]\n",
      "  [2.82585114e-01 5.60484469e-01]]\n",
      "\n",
      " [[2.68665826e-05 7.30431452e-02]\n",
      "  [1.84808269e-01 3.25938076e-01]]\n",
      "\n",
      " [[1.26252130e-01 1.58125460e-01]\n",
      "  [2.18894184e-01 2.88037527e-02]]\n",
      "\n",
      " [[1.36900514e-01 1.83653429e-01]\n",
      "  [3.69770080e-01 1.50166154e-01]]\n",
      "\n",
      " [[1.26124963e-01 2.15188026e-01]\n",
      "  [1.05095014e-01 1.42325044e-01]]\n",
      "\n",
      " [[1.13192707e-01 5.61029427e-02]\n",
      "  [1.27195746e-01 5.60786486e-01]]\n",
      "\n",
      " [[3.85614857e-02 1.84658244e-02]\n",
      "  [2.55633779e-02 3.95670056e-01]]\n",
      "\n",
      " [[6.15877062e-02 1.39419660e-01]\n",
      "  [1.23935647e-01 5.39604485e-01]]\n",
      "\n",
      " [[1.24728896e-01 1.21567985e-02]\n",
      "  [4.22050133e-02 4.06627536e-01]]\n",
      "\n",
      " [[1.05387479e-01 1.29784957e-01]\n",
      "  [4.33395058e-03 5.18360496e-01]]\n",
      "\n",
      " [[1.11177631e-01 1.05766475e-01]\n",
      "  [3.32177132e-02 4.68529165e-01]]\n",
      "\n",
      " [[1.73793603e-02 1.85440570e-01]\n",
      "  [1.76963538e-01 1.04103252e-01]]\n",
      "\n",
      " [[1.19938217e-02 2.05189392e-01]\n",
      "  [9.79371741e-02 1.21601172e-01]]\n",
      "\n",
      " [[2.43622866e-02 2.51806051e-01]\n",
      "  [5.03435098e-02 3.03734243e-01]]\n",
      "\n",
      " [[6.54976815e-02 2.11961605e-02]\n",
      "  [1.65940061e-01 2.76621848e-01]]\n",
      "\n",
      " [[3.27713899e-02 2.38654450e-01]\n",
      "  [3.14902775e-02 6.16276413e-02]]\n",
      "\n",
      " [[4.00545523e-02 2.60735750e-01]\n",
      "  [3.29648077e-01 4.64111805e-01]]\n",
      "\n",
      " [[5.04933968e-02 1.85141061e-02]\n",
      "  [2.72852063e-01 5.30551374e-01]]\n",
      "\n",
      " [[3.76294516e-02 1.58011943e-01]\n",
      "  [1.87447280e-01 2.98182786e-01]]\n",
      "\n",
      " [[1.34753242e-01 3.37879360e-02]\n",
      "  [2.70976543e-01 9.82925519e-02]]\n",
      "\n",
      " [[1.32459939e-01 2.32575625e-01]\n",
      "  [1.40793949e-01 3.92078966e-01]]\n",
      "\n",
      " [[1.64393019e-02 1.99753404e-01]\n",
      "  [2.38642246e-01 3.94433260e-01]]\n",
      "\n",
      " [[1.08938320e-02 3.84191796e-02]\n",
      "  [3.19195718e-01 3.59062493e-01]]\n",
      "\n",
      " [[9.66630206e-02 1.21134602e-01]\n",
      "  [5.40378392e-02 3.12831432e-01]]\n",
      "\n",
      " [[3.34163085e-02 1.78450719e-01]\n",
      "  [1.59315020e-01 2.54027933e-01]]\n",
      "\n",
      " [[1.55853610e-02 2.41703942e-01]\n",
      "  [2.99127042e-01 2.59859562e-01]]\n",
      "\n",
      " [[1.60253160e-02 2.35645026e-01]\n",
      "  [4.69853878e-02 3.08896959e-01]]\n",
      "\n",
      " [[7.56970644e-02 1.34468243e-01]\n",
      "  [1.43962592e-01 1.92538083e-01]]\n",
      "\n",
      " [[1.13789544e-01 5.03838994e-03]\n",
      "  [7.00516924e-02 5.38062453e-01]]\n",
      "\n",
      " [[2.75351834e-02 1.71276554e-01]\n",
      "  [2.80788541e-01 3.21575373e-01]]\n",
      "\n",
      " [[4.85371314e-02 7.20429346e-02]\n",
      "  [6.43187538e-02 1.02017447e-01]]\n",
      "\n",
      " [[9.59438533e-02 3.47067825e-02]\n",
      "  [5.40855825e-02 1.13526635e-01]]\n",
      "\n",
      " [[2.78056767e-02 6.84513450e-02]\n",
      "  [2.06199244e-01 4.64339525e-01]]\n",
      "\n",
      " [[4.40357700e-02 2.28121221e-01]\n",
      "  [9.47460532e-02 1.15143366e-01]]\n",
      "\n",
      " [[7.44697154e-02 9.97854322e-02]\n",
      "  [1.01336338e-01 5.24546027e-01]]\n",
      "\n",
      " [[6.92402273e-02 2.08063349e-01]\n",
      "  [9.81512517e-02 8.58723000e-02]]\n",
      "\n",
      " [[1.35073423e-01 6.38647974e-02]\n",
      "  [1.23581409e-01 5.55438101e-01]]\n",
      "\n",
      " [[7.39712864e-02 1.76365018e-01]\n",
      "  [4.12466764e-01 2.76044041e-01]]]\n"
     ]
    }
   ],
   "source": [
    "sess.run(tf.global_variables_initializer())\n",
    "\n",
    "#rr_ = sess.run(rr)\n",
    "samp_ = sess.run(samp)\n",
    "print(samp_)\n",
    "\n",
    "#for a in rr_:\n",
    "#    print(a)"
   ]
  },
  {
   "cell_type": "code",
   "execution_count": 8,
   "metadata": {},
   "outputs": [
    {
     "ename": "NameError",
     "evalue": "name 'rr_' is not defined",
     "output_type": "error",
     "traceback": [
      "\u001b[1;31m---------------------------------------------------------------------------\u001b[0m",
      "\u001b[1;31mNameError\u001b[0m                                 Traceback (most recent call last)",
      "\u001b[1;32m<ipython-input-8-63778ef573d6>\u001b[0m in \u001b[0;36m<module>\u001b[1;34m()\u001b[0m\n\u001b[0;32m      1\u001b[0m \u001b[1;31m# samples should be different because outputs come from different subgraphs with different values of \"var\"\u001b[0m\u001b[1;33m\u001b[0m\u001b[1;33m\u001b[0m\u001b[0m\n\u001b[1;32m----> 2\u001b[1;33m \u001b[1;32massert\u001b[0m \u001b[0mnp\u001b[0m\u001b[1;33m.\u001b[0m\u001b[0many\u001b[0m\u001b[1;33m(\u001b[0m\u001b[0mrr_\u001b[0m\u001b[1;33m[\u001b[0m\u001b[1;36m0\u001b[0m\u001b[1;33m]\u001b[0m \u001b[1;33m!=\u001b[0m \u001b[0mrr_\u001b[0m\u001b[1;33m[\u001b[0m\u001b[1;36m1\u001b[0m\u001b[1;33m]\u001b[0m\u001b[1;33m)\u001b[0m\u001b[1;33m\u001b[0m\u001b[0m\n\u001b[0m",
      "\u001b[1;31mNameError\u001b[0m: name 'rr_' is not defined"
     ]
    }
   ],
   "source": [
    "# samples should be different because outputs come from different subgraphs with different values of \"var\"\n",
    "assert np.any(rr_[0] != rr_[1])"
   ]
  },
  {
   "cell_type": "code",
   "execution_count": null,
   "metadata": {
    "collapsed": true,
    "scrolled": true
   },
   "outputs": [],
   "source": [
    "samp_ = sess.run(samp)\n",
    "print(samp_)"
   ]
  },
  {
   "cell_type": "code",
   "execution_count": null,
   "metadata": {
    "collapsed": true
   },
   "outputs": [],
   "source": [
    "# samples should be equal because outputs come from the same subgraph with a single \"var\"\n",
    "assert np.all(samp_[0]==samp_[1])  # samples should be different"
   ]
  },
  {
   "cell_type": "code",
   "execution_count": null,
   "metadata": {
    "collapsed": true
   },
   "outputs": [],
   "source": [
    "v = tf.get_variable(\"var\", initializer=tf.random_uniform(shape=tf.shape(x)))\n",
    "\n",
    "@layers.scoped\n",
    "def wrapv(fn, x):\n",
    "    with tf.control_dependencies([tf.assign(v, x)]):\n",
    "        return fn(v)\n",
    "samp = layers.sample(lambda x: wrapv(rando, x), x, 10)"
   ]
  },
  {
   "cell_type": "code",
   "execution_count": null,
   "metadata": {
    "collapsed": true
   },
   "outputs": [],
   "source": [
    "sess.run(tf.global_variables_initializer())\n",
    "sess.run(samp)"
   ]
  },
  {
   "cell_type": "code",
   "execution_count": null,
   "metadata": {
    "collapsed": true
   },
   "outputs": [],
   "source": []
  }
 ],
 "metadata": {
  "kernelspec": {
   "display_name": "Python 3",
   "language": "python",
   "name": "python3"
  },
  "language_info": {
   "codemirror_mode": {
    "name": "ipython",
    "version": 3
   },
   "file_extension": ".py",
   "mimetype": "text/x-python",
   "name": "python",
   "nbconvert_exporter": "python",
   "pygments_lexer": "ipython3",
   "version": "3.6.3"
  }
 },
 "nbformat": 4,
 "nbformat_minor": 2
}
