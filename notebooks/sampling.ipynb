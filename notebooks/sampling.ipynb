{
 "cells": [
  {
   "cell_type": "code",
   "execution_count": 1,
   "metadata": {},
   "outputs": [],
   "source": [
    "%matplotlib inline\n",
    "\n",
    "import numpy as np\n",
    "import matplotlib\n",
    "import matplotlib.pyplot as plt\n",
    "from math import *"
   ]
  },
  {
   "cell_type": "code",
   "execution_count": 2,
   "metadata": {
    "scrolled": false
   },
   "outputs": [],
   "source": [
    "import tensorflow as tf"
   ]
  },
  {
   "cell_type": "code",
   "execution_count": 3,
   "metadata": {},
   "outputs": [],
   "source": [
    "from _context import dl_uncertainty\n",
    "import dl_uncertainty.tf_utils as tf_utils\n",
    "import dl_uncertainty.tf_utils.layers as layers"
   ]
  },
  {
   "cell_type": "code",
   "execution_count": 4,
   "metadata": {},
   "outputs": [],
   "source": [
    "def mydropout(x):\n",
    "    return x*\n",
    "\n",
    "@layers.scoped\n",
    "def dropout(x):\n",
    "    @layers.scoped\n",
    "    def getv():\n",
    "        #return tf.random_uniform([])\n",
    "        return tf.get_variable(\"var\", initializer=tf.random_uniform([]))\n",
    "        #return tf.get_variable(\"var\", initializer=1.0)\n",
    "    return x*tf.nn.dropout(getv(), keep_prob=0.5)\n",
    "\n",
    "#yp = tf.stack([do(x, name='dropout', reuse=i>0) for i in range(5)])  # can be run only once (name must be changed to run again)\n",
    "#yp=tf.Assert(tf.logical_not(tf.reduce_all(tf.equal(res[0], res[1]))), [yp])\n",
    "\n",
    "#do=tf.make_template('do', lambda x: dropout(x, name='dropout'))\n",
    "#ys = layers.sample(1, do, 5)\n",
    "ys = layers.sample(1, lambda x: dropout(x, name='do'), 5)\n",
    "#ys = layers.sample(1, dropout, 5)\n",
    "y_mean = tf.reduce_mean(ys, 0)"
   ]
  },
  {
   "cell_type": "code",
   "execution_count": 5,
   "metadata": {},
   "outputs": [],
   "source": [
    "sess = tf.Session()"
   ]
  },
  {
   "cell_type": "code",
   "execution_count": 6,
   "metadata": {
    "collapsed": true
   },
   "outputs": [],
   "source": [
    "sess.run(tf.global_variables_initializer())"
   ]
  },
  {
   "cell_type": "code",
   "execution_count": 7,
   "metadata": {},
   "outputs": [
    {
     "name": "stdout",
     "output_type": "stream",
     "text": [
      "[0.         0.         0.74773645 0.74773645 0.        ]\n",
      "[0.74773645 0.74773645 0.         0.74773645 0.        ]\n",
      "[0.         0.74773645 0.74773645 0.         0.74773645]\n",
      "[0.74773645 0.         0.         0.74773645 0.        ]\n",
      "[0.74773645 0.         0.         0.74773645 0.        ]\n",
      "0.44864187\n",
      "0.2990946\n",
      "0.2990946\n",
      "0.44864187\n",
      "0.0\n"
     ]
    }
   ],
   "source": [
    "for _ in range(5): print(sess.run(ys))\n",
    "for _ in range(5): print(sess.run(y_mean))"
   ]
  },
  {
   "cell_type": "code",
   "execution_count": 8,
   "metadata": {},
   "outputs": [
    {
     "data": {
      "text/plain": [
       "<tensorflow.python.ops.init_ops.Constant at 0x23ae93561d0>"
      ]
     },
     "execution_count": 8,
     "metadata": {},
     "output_type": "execute_result"
    }
   ],
   "source": [
    "tf.constant_initializer(5.5)"
   ]
  },
  {
   "cell_type": "code",
   "execution_count": 11,
   "metadata": {},
   "outputs": [
    {
     "data": {
      "text/plain": [
       "TensorShape([Dimension(5)])"
      ]
     },
     "execution_count": 11,
     "metadata": {},
     "output_type": "execute_result"
    }
   ],
   "source": [
    "ys.shape"
   ]
  },
  {
   "cell_type": "code",
   "execution_count": null,
   "metadata": {
    "collapsed": true
   },
   "outputs": [],
   "source": []
  }
 ],
 "metadata": {
  "kernelspec": {
   "display_name": "Python 3",
   "language": "python",
   "name": "python3"
  },
  "language_info": {
   "codemirror_mode": {
    "name": "ipython",
    "version": 3
   },
   "file_extension": ".py",
   "mimetype": "text/x-python",
   "name": "python",
   "nbconvert_exporter": "python",
   "pygments_lexer": "ipython3",
   "version": "3.6.3"
  }
 },
 "nbformat": 4,
 "nbformat_minor": 2
}
