{
 "cells": [
  {
   "cell_type": "code",
   "execution_count": 1,
   "metadata": {},
   "outputs": [],
   "source": [
    "%matplotlib inline\n",
    "\n",
    "import numpy as np\n",
    "import matplotlib\n",
    "import matplotlib.pyplot as plt\n",
    "from math import *"
   ]
  },
  {
   "cell_type": "code",
   "execution_count": 2,
   "metadata": {
    "scrolled": false
   },
   "outputs": [],
   "source": [
    "import tensorflow as tf"
   ]
  },
  {
   "cell_type": "code",
   "execution_count": 3,
   "metadata": {},
   "outputs": [],
   "source": [
    "from _context import dl_uncertainty\n",
    "import dl_uncertainty.tf_utils as tf_utils\n",
    "import dl_uncertainty.tf_utils.layers as layers"
   ]
  },
  {
   "cell_type": "code",
   "execution_count": 4,
   "metadata": {},
   "outputs": [],
   "source": [
    "@layers.scoped\n",
    "def dropout(x):\n",
    "    #v= tf.get_variable(\"var\", initializer=tf.random_uniform([]))\n",
    "    return tf.nn.dropout(x, keep_prob=0.5)"
   ]
  },
  {
   "cell_type": "code",
   "execution_count": 5,
   "metadata": {
    "scrolled": false
   },
   "outputs": [],
   "source": [
    "x = np.array([[1,2],[3,4.0]])"
   ]
  },
  {
   "cell_type": "code",
   "execution_count": 38,
   "metadata": {
    "scrolled": false
   },
   "outputs": [],
   "source": [
    "ys = layers.sample(lambda x: dropout(x, name='do'), x, 30)\n",
    "y_mean = tf.reduce_mean(ys, 0)  # should approximate x\n",
    "ys2 = layers.sample(lambda x: dropout(x, name='do'), x, 30, examplewise=True)"
   ]
  },
  {
   "cell_type": "code",
   "execution_count": 39,
   "metadata": {},
   "outputs": [],
   "source": [
    "sess = tf.Session()"
   ]
  },
  {
   "cell_type": "code",
   "execution_count": 40,
   "metadata": {
    "collapsed": true
   },
   "outputs": [],
   "source": [
    "sess.run(tf.global_variables_initializer())"
   ]
  },
  {
   "cell_type": "code",
   "execution_count": 49,
   "metadata": {},
   "outputs": [
    {
     "name": "stdout",
     "output_type": "stream",
     "text": [
      "(2, 2)\n",
      "Sampling\n",
      "[[[0. 4.]\n",
      "  [6. 8.]]\n",
      "\n",
      " [[0. 4.]\n",
      "  [6. 8.]]\n",
      "\n",
      " [[2. 0.]\n",
      "  [0. 8.]]\n",
      "\n",
      " [[2. 0.]\n",
      "  [0. 8.]]] ...\n",
      "[[[2. 4.]\n",
      "  [0. 0.]]]\n",
      "shape: (6, 2, 2)\n",
      "\n",
      "Sample mean\n",
      "[[1.33333333 2.66666667]\n",
      " [4.         5.33333333]]\n",
      "\n",
      "Example-wise sampling\n",
      "[[[0. 0.]\n",
      "  [0. 0.]\n",
      "  [0. 0.]\n",
      "  [0. 4.]\n",
      "  [0. 0.]\n",
      "  [2. 4.]]\n",
      "\n",
      " [[0. 0.]\n",
      "  [0. 8.]\n",
      "  [6. 8.]\n",
      "  [0. 8.]\n",
      "  [0. 0.]\n",
      "  [0. 0.]]] ...\n",
      "[[[0. 0.]\n",
      "  [0. 8.]\n",
      "  [6. 8.]\n",
      "  [0. 8.]\n",
      "  [0. 0.]\n",
      "  [0. 0.]]]\n",
      "shape: (2, 6, 2)\n"
     ]
    }
   ],
   "source": [
    "print(x.shape)\n",
    "print('Sampling')\n",
    "r = sess.run(ys)\n",
    "print(r[:4], '...')\n",
    "print(r[-1:])\n",
    "print('shape:', r.shape)\n",
    "\n",
    "print('')\n",
    "print('Sample mean')\n",
    "r = sess.run(y_mean)\n",
    "print(r)\n",
    "\n",
    "print('')\n",
    "print('Example-wise sampling')\n",
    "r = sess.run(ys2)\n",
    "print(r[:4], '...')\n",
    "print(r[-1:])\n",
    "print('shape:', r.shape)"
   ]
  },
  {
   "cell_type": "code",
   "execution_count": null,
   "metadata": {
    "collapsed": true
   },
   "outputs": [],
   "source": []
  }
 ],
 "metadata": {
  "kernelspec": {
   "display_name": "Python 3",
   "language": "python",
   "name": "python3"
  },
  "language_info": {
   "codemirror_mode": {
    "name": "ipython",
    "version": 3
   },
   "file_extension": ".py",
   "mimetype": "text/x-python",
   "name": "python",
   "nbconvert_exporter": "python",
   "pygments_lexer": "ipython3",
   "version": "3.6.3"
  }
 },
 "nbformat": 4,
 "nbformat_minor": 2
}
