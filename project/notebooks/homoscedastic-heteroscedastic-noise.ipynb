{
 "cells": [
  {
   "cell_type": "code",
   "execution_count": 1,
   "metadata": {},
   "outputs": [],
   "source": [
    "%matplotlib inline\n",
    "\n",
    "import numpy as np\n",
    "import matplotlib\n",
    "import matplotlib.pyplot as plt\n",
    "from math import *\n",
    "\n",
    "from matplotlib import rc\n",
    "\n",
    "#rc('font',**{'family':'sans-serif','sans-serif':['Helvetica']})\n",
    "## for Palatino and other serif fonts use:\n",
    "#rc('font',**{'family':'serif','serif':['Palatino']})\n",
    "#rc('text', usetex=True)"
   ]
  },
  {
   "cell_type": "code",
   "execution_count": 2,
   "metadata": {},
   "outputs": [],
   "source": [
    "scale = 1\n",
    "fontsize_pt = 11*scale # 11.74983\n",
    "textwidth_pt = 412.56497*scale\n",
    "\n",
    "# https://gist.github.com/martijnvermaat/b5fe45124049b1e8e037\n",
    "\n",
    "def configure(document_fontsize=fontsize_pt, available_width=textwidth_pt):\n",
    "    \"\"\"\n",
    "    Configures Matplotlib so saved figures can be used in LaTeX documents.\n",
    "    Uses the sans-serif TeX Gyre Heros font (Helvetica), also for math.\n",
    "    Arguments:\n",
    "    - document_fontsize: Font size in points (use \"\\the\\fontdimen6\\font\" in\n",
    "      your LaTeX document to get the current value). The default is for a\n",
    "      LaTeX Beamer document at 14pt (\"\\documentclass[14pt]{beamer}\") which\n",
    "      for some reason is slightly more than 14pt.\n",
    "    - available_width: The available width in your LaTeX document, usually\n",
    "      the value of \"\\textwidth\". The default is for a LaTeX Beamer document\n",
    "      with the default theme.\n",
    "    Returns a function that calculates figure size given a fraction of the\n",
    "    available width for the figure to occupy.\n",
    "    Figures can be saved as PDF:\n",
    "        fig.tight_layout(pad=0.1)\n",
    "        fig.savefig('figure.pdf')\n",
    "    And included in your document as follows:\n",
    "        \\begin{frame}\n",
    "          \\begin{center}\n",
    "            \\includegraphics[width=1.0\\textwidth,transparent]{figure.pdf}\n",
    "          \\end{center}\n",
    "        \\end{frame}\n",
    "    Todo:\n",
    "    - Make font family and face configurable.\n",
    "    - Example IPython Notebook and LaTeX document.\n",
    "    - Document dependencies (tex-gyre, dvipng, ...).\n",
    "    Based on: http://damon-is-a-geek.com/publication-ready-the-first-time-beautiful-reproducible-plots-with-matplotlib.html\n",
    "    \"\"\"\n",
    "    def figsize(width_fraction=1.0):\n",
    "        \"\"\"\n",
    "        width_fraction: The fraction of the available width you'd like the figure to occupy.\n",
    "        \"\"\"\n",
    "        width_pt = available_width * width_fraction\n",
    "\n",
    "        inches_per_pt = 1.0 / 72.27\n",
    "        golden_ratio  = (5**0.5 - 1.0) / 2.0\n",
    "\n",
    "        width_in = width_pt * inches_per_pt\n",
    "        height_in = width_in * golden_ratio\n",
    "        return width_in, height_in\n",
    "    \n",
    "    from matplotlib import rcParams\n",
    "    #rcParams['figure.dpi']=160    \n",
    "    rcParams['font.size'] = document_fontsize\n",
    "    rcParams['axes.titlesize'] = document_fontsize\n",
    "    rcParams['axes.labelsize'] = document_fontsize\n",
    "    rcParams['xtick.labelsize'] = document_fontsize\n",
    "    rcParams['ytick.labelsize'] = document_fontsize\n",
    "    rcParams['legend.fontsize'] = document_fontsize\n",
    "    #rcParams['font.family'] = 'sans-serif'\n",
    "    #rcParams['font.sans-serif'] = ['tgheros']\n",
    "    #rcParams['font.serif'] = ['cm10']\n",
    "    rcParams['text.usetex'] = True\n",
    "    rcParams['text.latex.preamble'] = r\"\"\"\n",
    "        \\usepackage[T1]{fontenc}\n",
    "        \\usepackage{amsmath}\n",
    "        \\usepackage{amsfonts}\n",
    "        \\usepackage{amssymb}\n",
    "        \"\"\"\n",
    "    rcParams['figure.figsize'] = figsize()\n",
    "\n",
    "    return figsize\n",
    "figsize = configure()"
   ]
  },
  {
   "cell_type": "code",
   "execution_count": 10,
   "metadata": {},
   "outputs": [
    {
     "data": {
      "image/png": "[encoded data removed]",
      "text/plain": [
       "<matplotlib.figure.Figure at 0x1d87c03d080>"
      ]
     },
     "metadata": {},
     "output_type": "display_data"
    }
   ],
   "source": [
    "x = np.linspace(0, 10, num=200)\n",
    "f = lambda x: sin(x)+2*cos(x/2)+6\n",
    "e = lambda x: 2*exp(-(x-5)**2/3)+0.3\n",
    "y = np.array([f(x) for x in x])\n",
    "ye = np.array([e(x) for x in x])\n",
    "\n",
    "x_samples = np.random.rand(200)*10\n",
    "y_samples = np.array([f(x) for x in x_samples])\n",
    "ye_heterosced_samples = np.array([f(x)+np.random.randn()*e(x) for x in x_samples])\n",
    "ye_homosced_samples = np.array([f(x)+np.random.randn() for x in x_samples])\n",
    "\n",
    "w, h = figsize()\n",
    "\n",
    "fig, (ax1, ax2) = plt.subplots(1, 2, sharey=True, figsize=(w,h*0.6))\n",
    "\n",
    "ax1.fill_between(x, y-1, y+1, facecolor='#1f77b4', alpha=0.15, lw=0, interpolate=False)\n",
    "ax1.plot(x, y, color='#1f77b4')\n",
    "ax1.scatter(x_samples, ye_homosced_samples, s=1)\n",
    "ax1.set_xlabel('$x$')\n",
    "ax1.set_ylabel('$y$')\n",
    "\n",
    "ax2.fill_between(x, y-ye, y+ye, facecolor='#1f77b4', alpha=0.15, lw=0, interpolate=False)\n",
    "ax2.plot(x, y, color='#1f77b4')\n",
    "ax2.scatter(x_samples, ye_heterosced_samples, s=1)\n",
    "ax2.set_xlabel('$x$')\n",
    "\n",
    "fig.tight_layout(pad=0.1)\n",
    "\n",
    "# \\includegraphics[width=1.0\\textwidth,transpaent]{figure.pdf}"
   ]
  },
  {
   "cell_type": "code",
   "execution_count": 6,
   "metadata": {},
   "outputs": [],
   "source": [
    "fig.savefig('homoscedastic-heteroscedastic-noises.pdf')"
   ]
  },
  {
   "cell_type": "code",
   "execution_count": null,
   "metadata": {
    "collapsed": true
   },
   "outputs": [],
   "source": []
  }
 ],
 "metadata": {
  "kernelspec": {
   "display_name": "Python 3",
   "language": "python",
   "name": "python3"
  },
  "language_info": {
   "codemirror_mode": {
    "name": "ipython",
    "version": 3
   },
   "file_extension": ".py",
   "mimetype": "text/x-python",
   "name": "python",
   "nbconvert_exporter": "python",
   "pygments_lexer": "ipython3",
   "version": "3.6.3"
  }
 },
 "nbformat": 4,
 "nbformat_minor": 2
}
